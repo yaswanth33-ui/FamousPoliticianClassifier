{
 "cells": [
  {
   "cell_type": "code",
   "execution_count": null,
   "id": "228fb638",
   "metadata": {},
   "outputs": [],
   "source": []
  },
  {
   "cell_type": "markdown",
   "id": "df190b74",
   "metadata": {},
   "source": [
    "**Preprecessing steps Experimentation**:\n",
    "- After perfroming several experiments I got the best possible results\n",
    "- I have also implement some other models such as Decision trees, Random forest, But their performance is very. So, I've decided to remove them.\n",
    "- I have tried implementing pca but it also doesn't make significant improvements, sometimes it degrades the performance as well.\n",
    "- I have tried implementing lbp but it also degrading the performance of model sometimes so i dediced to remove it."
   ]
  },
  {
   "cell_type": "code",
   "execution_count": 1,
   "id": "c0ce5e7a",
   "metadata": {},
   "outputs": [
    {
     "name": "stderr",
     "output_type": "stream",
     "text": [
      "c:\\Users\\Public\\anaconda3\\Lib\\site-packages\\paramiko\\transport.py:219: CryptographyDeprecationWarning: Blowfish has been deprecated and will be removed in a future release\n",
      "  \"class\": algorithms.Blowfish,\n"
     ]
    }
   ],
   "source": [
    "import numpy as np \n",
    "import os\n",
    "from skimage.feature import hog, local_binary_pattern\n",
    "from skimage import color\n",
    "import cv2\n",
    "from sklearn.preprocessing import LabelEncoder\n",
    "\n",
    "'''def extract_combined_features(image):\n",
    "    hog_feat = hog(image,pixels_per_cell=(8,8),cells_per_block=(2,2),visualize=False)\n",
    "    \n",
    "    lbp = local_binary_pattern(image, 8, 1, method='uniform')\n",
    "    lbp_hist,_ = np.histogram(lbp.ravel(),bins=np.arange(0, 11), density=True)\n",
    "    \n",
    "    return np.concatenate([hog_feat, lbp_hist])'''\n",
    "def extract_features_from_folder(folder_path):\n",
    "    features = []\n",
    "    labels = []\n",
    "\n",
    "    for label in os.listdir(folder_path):\n",
    "        class_path = os.path.join(folder_path, label)\n",
    "        for filename in os.listdir(class_path):\n",
    "            img_path = os.path.join(class_path, filename)\n",
    "            img = cv2.imread(img_path)\n",
    "            if img is None:\n",
    "                continue\n",
    "\n",
    "            img = cv2.resize(img, (128, 128))\n",
    "            gray = color.rgb2gray(img)\n",
    "\n",
    "            hog_feat = hog(gray, pixels_per_cell=(8, 8), cells_per_block=(2, 2), visualize=False)\n",
    "            features.append(hog_feat)\n",
    "            labels.append(label)\n",
    "\n",
    "    X = np.array(features)\n",
    "    y = np.array(labels)\n",
    "\n",
    "    le = LabelEncoder()\n",
    "    y_encoded = le.fit_transform(y)\n",
    "\n",
    "    return X, y_encoded, le"
   ]
  },
  {
   "cell_type": "code",
   "execution_count": 2,
   "id": "17dcc3af",
   "metadata": {},
   "outputs": [],
   "source": [
    "from preprocessing import extract_features_from_folder\n",
    "from sklearn.model_selection import train_test_split\n",
    "from sklearn.decomposition import PCA\n",
    "from sklearn.preprocessing import StandardScaler\n",
    "from sklearn.svm import SVC\n",
    "from sklearn.pipeline import Pipeline\n",
    "from sklearn.model_selection import GridSearchCV\n",
    "from sklearn.metrics import classification_report"
   ]
  },
  {
   "cell_type": "code",
   "execution_count": 3,
   "id": "d889b877",
   "metadata": {},
   "outputs": [],
   "source": [
    "folder_path = 'cropped/train'\n",
    "X_raw, y_encoded, le = extract_features_from_folder(folder_path)\n",
    "\n",
    "# PCA\n"
   ]
  },
  {
   "cell_type": "code",
   "execution_count": 12,
   "id": "39441b95",
   "metadata": {},
   "outputs": [],
   "source": [
    "pca = PCA(n_components=100)  # Try 50-100\n",
    "X_reduced = pca.fit_transform(X_raw)"
   ]
  },
  {
   "cell_type": "code",
   "execution_count": 4,
   "id": "998ec3bd",
   "metadata": {},
   "outputs": [],
   "source": [
    "X_train, X_test, y_train, y_test = train_test_split(X_raw, y_encoded, test_size=0.2,random_state=0)"
   ]
  },
  {
   "cell_type": "code",
   "execution_count": 5,
   "id": "9f8e8038",
   "metadata": {},
   "outputs": [
    {
     "data": {
      "text/plain": [
       "0.7410071942446043"
      ]
     },
     "execution_count": 5,
     "metadata": {},
     "output_type": "execute_result"
    }
   ],
   "source": [
    "pipe = Pipeline([\n",
    "    ('scaler', StandardScaler()),\n",
    "    ('svc', SVC(kernel='rbf',C=5,probability=True))])\n",
    "pipe.fit(X_train, y_train)\n",
    "pipe.score(X_test, y_test)"
   ]
  },
  {
   "cell_type": "code",
   "execution_count": 6,
   "id": "2345c38f",
   "metadata": {},
   "outputs": [
    {
     "name": "stdout",
     "output_type": "stream",
     "text": [
      "              precision    recall  f1-score   support\n",
      "\n",
      "           0       1.00      0.50      0.67         6\n",
      "           1       0.69      0.90      0.78        10\n",
      "           2       0.80      0.67      0.73         6\n",
      "           3       1.00      0.67      0.80         3\n",
      "           4       0.33      0.33      0.33         3\n",
      "           5       0.67      0.50      0.57         4\n",
      "           6       0.70      0.88      0.78         8\n",
      "           7       0.60      0.60      0.60         5\n",
      "           8       0.91      1.00      0.95        10\n",
      "           9       1.00      0.80      0.89         5\n",
      "          10       0.93      1.00      0.96        13\n",
      "          11       0.67      0.50      0.57         4\n",
      "          12       0.46      0.86      0.60         7\n",
      "          13       1.00      0.62      0.77         8\n",
      "          14       0.50      0.57      0.53         7\n",
      "          15       1.00      0.56      0.71         9\n",
      "          16       0.67      0.57      0.62         7\n",
      "          17       0.83      1.00      0.91         5\n",
      "          18       0.64      0.82      0.72        11\n",
      "          19       0.83      0.62      0.71         8\n",
      "\n",
      "    accuracy                           0.74       139\n",
      "   macro avg       0.76      0.70      0.71       139\n",
      "weighted avg       0.78      0.74      0.74       139\n",
      "\n"
     ]
    }
   ],
   "source": [
    "print(classification_report(y_test, pipe.predict(X_test)))"
   ]
  },
  {
   "cell_type": "code",
   "execution_count": 7,
   "id": "3a585a9f",
   "metadata": {},
   "outputs": [],
   "source": [
    "from sklearn.svm import SVC \n",
    "from sklearn.linear_model import LogisticRegression \n",
    "model_params = {\n",
    "    'svm':{\n",
    "        'model':SVC(probability=True),\n",
    "        'params':{\n",
    "            'svc__C': [1, 10, 100],\n",
    "            'svc__kernel': ['linear', 'rbf'],\n",
    "        }\n",
    "    },\n",
    "    'logistic':{\n",
    "        'model':LogisticRegression(),\n",
    "        'params':{\n",
    "            'logisticregression__C': [1, 5, 10],\n",
    "        }\n",
    "    }\n",
    "}"
   ]
  },
  {
   "cell_type": "code",
   "execution_count": 8,
   "id": "c527e13b",
   "metadata": {},
   "outputs": [
    {
     "data": {
      "text/html": [
       "<div>\n",
       "<style scoped>\n",
       "    .dataframe tbody tr th:only-of-type {\n",
       "        vertical-align: middle;\n",
       "    }\n",
       "\n",
       "    .dataframe tbody tr th {\n",
       "        vertical-align: top;\n",
       "    }\n",
       "\n",
       "    .dataframe thead th {\n",
       "        text-align: right;\n",
       "    }\n",
       "</style>\n",
       "<table border=\"1\" class=\"dataframe\">\n",
       "  <thead>\n",
       "    <tr style=\"text-align: right;\">\n",
       "      <th></th>\n",
       "      <th>model</th>\n",
       "      <th>best_score</th>\n",
       "      <th>best_params</th>\n",
       "    </tr>\n",
       "  </thead>\n",
       "  <tbody>\n",
       "    <tr>\n",
       "      <th>0</th>\n",
       "      <td>svm</td>\n",
       "      <td>0.801605</td>\n",
       "      <td>{'svc__C': 1, 'svc__kernel': 'linear'}</td>\n",
       "    </tr>\n",
       "    <tr>\n",
       "      <th>1</th>\n",
       "      <td>logistic</td>\n",
       "      <td>0.810598</td>\n",
       "      <td>{'logisticregression__C': 5}</td>\n",
       "    </tr>\n",
       "  </tbody>\n",
       "</table>\n",
       "</div>"
      ],
      "text/plain": [
       "      model  best_score                             best_params\n",
       "0       svm    0.801605  {'svc__C': 1, 'svc__kernel': 'linear'}\n",
       "1  logistic    0.810598            {'logisticregression__C': 5}"
      ]
     },
     "execution_count": 8,
     "metadata": {},
     "output_type": "execute_result"
    }
   ],
   "source": [
    "from sklearn.pipeline import make_pipeline\n",
    "\n",
    "scores = []\n",
    "best_estimators = {}\n",
    "import pandas as pd\n",
    "for algo, mp in model_params.items():\n",
    "    pipe = make_pipeline(StandardScaler(),mp['model'])\n",
    "    clf = GridSearchCV(pipe, mp['params'], cv=5, return_train_score=False, n_jobs=-1)\n",
    "\n",
    "    clf.fit(X_train, y_train)\n",
    "    scores.append({\n",
    "        'model': algo,\n",
    "        'best_score': clf.best_score_,\n",
    "        'best_params': clf.best_params_\n",
    "    })\n",
    "    best_estimators[algo] = clf.best_estimator_\n",
    "df = pd.DataFrame(scores,columns=['model','best_score','best_params'])\n",
    "df"
   ]
  },
  {
   "cell_type": "code",
   "execution_count": 9,
   "id": "d9cc4017",
   "metadata": {},
   "outputs": [
    {
     "data": {
      "text/plain": [
       "0.8201438848920863"
      ]
     },
     "execution_count": 9,
     "metadata": {},
     "output_type": "execute_result"
    }
   ],
   "source": [
    "best_estimators['svm'].score(X_test,y_test)"
   ]
  },
  {
   "cell_type": "code",
   "execution_count": 10,
   "id": "d873c401",
   "metadata": {},
   "outputs": [
    {
     "data": {
      "text/plain": [
       "0.8273381294964028"
      ]
     },
     "execution_count": 10,
     "metadata": {},
     "output_type": "execute_result"
    }
   ],
   "source": [
    "best_estimators['logistic'].score(X_test,y_test)"
   ]
  },
  {
   "cell_type": "code",
   "execution_count": 11,
   "id": "2d85f681",
   "metadata": {},
   "outputs": [
    {
     "data": {
      "text/plain": [
       "{'svc__C': 1, 'svc__kernel': 'linear'}"
      ]
     },
     "execution_count": 11,
     "metadata": {},
     "output_type": "execute_result"
    }
   ],
   "source": [
    "df['best_params'][0]"
   ]
  },
  {
   "cell_type": "code",
   "execution_count": 12,
   "id": "6ea82f95",
   "metadata": {},
   "outputs": [
    {
     "data": {
      "text/plain": [
       "{'svm': Pipeline(steps=[('standardscaler', StandardScaler()),\n",
       "                 ('svc', SVC(C=1, kernel='linear', probability=True))]),\n",
       " 'logistic': Pipeline(steps=[('standardscaler', StandardScaler()),\n",
       "                 ('logisticregression', LogisticRegression(C=5))])}"
      ]
     },
     "execution_count": 12,
     "metadata": {},
     "output_type": "execute_result"
    }
   ],
   "source": [
    "best_estimators"
   ]
  },
  {
   "cell_type": "code",
   "execution_count": null,
   "id": "7aa07a8b",
   "metadata": {},
   "outputs": [],
   "source": [
    "y_pred = best_estimators['svm'].predict(X_test)"
   ]
  },
  {
   "cell_type": "code",
   "execution_count": 14,
   "id": "55f8468b",
   "metadata": {},
   "outputs": [
    {
     "data": {
      "text/plain": [
       "array(['Rishi Sunak', 'Donald Trump', 'Xi Jinping', 'Volodymyr Zelenskyy',\n",
       "       'Narendra Modi', 'Arvind Kejriwal', 'Joe Biden',\n",
       "       'YS Rajashekar Reddy', 'ChandraBabu Naidu', 'Vladimir Putin',\n",
       "       'Angela Merkel', 'YS Jagan', 'Jacinda Ardern', 'Rahul Gandhi',\n",
       "       'Rishi Sunak', 'Donald Trump', 'Angela Merkel', 'YS Jagan',\n",
       "       'Xi Jinping', 'Rahul Gandhi', 'YS Rajashekar Reddy',\n",
       "       'Rahul Gandhi', 'Joe Biden', 'Narendra Modi', 'YS Jagan',\n",
       "       'Narendra Modi', 'Olaf Scholz', 'Boris Johnson', 'Narendra Modi',\n",
       "       'Scott Morrison', 'Olaf Scholz', 'Vladimir Putin',\n",
       "       'Arvind Kejriwal', 'Justin Trudeau', 'Rishi Sunak',\n",
       "       'Jacinda Ardern', 'Narendra Modi', 'Volodymyr Zelenskyy',\n",
       "       'Emmanuel Macron', 'YS Jagan', 'Rishi Sunak', 'Boris Johnson',\n",
       "       'YS Rajashekar Reddy', 'Justin Trudeau', 'Olaf Scholz',\n",
       "       'Narendra Modi', 'ChandraBabu Naidu', 'Angela Merkel',\n",
       "       'Boris Johnson', 'Narendra Modi', 'Joe Biden', 'Xi Jinping',\n",
       "       'Volodymyr Zelenskyy', 'Arvind Kejriwal', 'YS Jagan', 'Xi Jinping',\n",
       "       'Justin Trudeau', 'Jacinda Ardern', 'YS Rajashekar Reddy',\n",
       "       'Rahul Gandhi', 'YS Jagan', 'Vladimir Putin', 'Vladimir Putin',\n",
       "       'Justin Trudeau', 'Scott Morrison', 'Volodymyr Zelenskyy',\n",
       "       'Olaf Scholz', 'Scott Morrison', 'YS Jagan', 'Jacinda Ardern',\n",
       "       'YS Jagan', 'Justin Trudeau', 'YS Jagan', 'Nara Lokesh',\n",
       "       'Emmanuel Macron', 'Xi Jinping', 'Rahul Gandhi', 'Arvind Kejriwal',\n",
       "       'Rahul Gandhi', 'Joe Biden', 'YS Jagan', 'Jacinda Ardern',\n",
       "       'Vladimir Putin', 'Xi Jinping', 'Arvind Kejriwal',\n",
       "       'Emmanuel Macron', 'Arvind Kejriwal', 'YS Jagan', 'Narendra Modi',\n",
       "       'Justin Trudeau', 'Emmanuel Macron', 'Vladimir Putin',\n",
       "       'Boris Johnson', 'Joe Biden', 'Arvind Kejriwal', 'Narendra Modi',\n",
       "       'Rishi Sunak', 'Nara Lokesh', 'Donald Trump', 'Scott Morrison',\n",
       "       'Scott Morrison', 'Jacinda Ardern', 'Narendra Modi', 'Nara Lokesh',\n",
       "       'Narendra Modi', 'YS Jagan', 'YS Rajashekar Reddy',\n",
       "       'Justin Trudeau', 'YS Jagan', 'Justin Trudeau', 'Angela Merkel',\n",
       "       'Scott Morrison', 'Joe Biden', 'Arvind Kejriwal',\n",
       "       'Arvind Kejriwal', 'Nara Lokesh', 'Rahul Gandhi', 'Scott Morrison',\n",
       "       'Rahul Gandhi', 'Vladimir Putin', 'Rahul Gandhi', 'Jacinda Ardern',\n",
       "       'Rishi Sunak', 'Donald Trump', 'Joe Biden', 'Joe Biden',\n",
       "       'Narendra Modi', 'ChandraBabu Naidu', 'Jacinda Ardern',\n",
       "       'Rahul Gandhi', 'Justin Trudeau', 'Justin Trudeau', 'Nara Lokesh',\n",
       "       'Arvind Kejriwal', 'Arvind Kejriwal', 'Narendra Modi',\n",
       "       'Arvind Kejriwal', 'Rahul Gandhi', 'Volodymyr Zelenskyy'],\n",
       "      dtype='<U19')"
      ]
     },
     "execution_count": 14,
     "metadata": {},
     "output_type": "execute_result"
    }
   ],
   "source": [
    "le.inverse_transform(y_pred)"
   ]
  },
  {
   "cell_type": "code",
   "execution_count": 15,
   "id": "e3204d90",
   "metadata": {},
   "outputs": [
    {
     "data": {
      "text/plain": [
       "array([5.80191913e-04, 8.84991457e-04, 6.62437556e-04, 5.04079399e-03,\n",
       "       3.93317179e-04, 1.10075519e-03, 4.53096457e-04, 3.94800978e-04,\n",
       "       2.99910363e-04, 3.58580170e-03, 2.83178486e-04, 7.85968755e-04,\n",
       "       2.76524271e-03, 9.76731674e-01, 3.37058074e-04, 3.25301835e-04,\n",
       "       1.48510666e-03, 2.49819139e-04, 2.36360088e-03, 1.27695234e-03])"
      ]
     },
     "execution_count": 15,
     "metadata": {},
     "output_type": "execute_result"
    }
   ],
   "source": [
    "best_estimators['svm'].predict_proba(X_test)[0]"
   ]
  },
  {
   "cell_type": "code",
   "execution_count": 16,
   "id": "74f1da29",
   "metadata": {},
   "outputs": [
    {
     "data": {
      "text/plain": [
       "['model.pkl']"
      ]
     },
     "execution_count": 16,
     "metadata": {},
     "output_type": "execute_result"
    }
   ],
   "source": [
    "import joblib \n",
    "\n",
    "joblib.dump(best_estimators['svm'], 'model.pkl')"
   ]
  },
  {
   "cell_type": "code",
   "execution_count": 8,
   "id": "3e03d1fb",
   "metadata": {},
   "outputs": [],
   "source": [
    "import json \n",
    "classes = le.classes_.tolist()\n",
    "classes_dict = {classes[i]:i for i in range(len(classes))}\n",
    "with open('classes.json','w') as f:\n",
    "    f.write(json.dumps(classes_dict))"
   ]
  },
  {
   "cell_type": "code",
   "execution_count": 7,
   "id": "28925dcf",
   "metadata": {},
   "outputs": [
    {
     "data": {
      "text/plain": [
       "['Angela Merkel',\n",
       " 'Arvind Kejriwal',\n",
       " 'Boris Johnson',\n",
       " 'ChandraBabu Naidu',\n",
       " 'Donald Trump',\n",
       " 'Emmanuel Macron',\n",
       " 'Jacinda Ardern',\n",
       " 'Joe Biden',\n",
       " 'Justin Trudeau',\n",
       " 'Nara Lokesh',\n",
       " 'Narendra Modi',\n",
       " 'Olaf Scholz',\n",
       " 'Rahul Gandhi',\n",
       " 'Rishi Sunak',\n",
       " 'Scott Morrison',\n",
       " 'Vladimir Putin',\n",
       " 'Volodymyr Zelenskyy',\n",
       " 'Xi Jinping',\n",
       " 'YS Jagan',\n",
       " 'YS Rajashekar Reddy']"
      ]
     },
     "execution_count": 7,
     "metadata": {},
     "output_type": "execute_result"
    }
   ],
   "source": [
    "le.classes_.tolist()"
   ]
  },
  {
   "cell_type": "code",
   "execution_count": 7,
   "id": "16016659",
   "metadata": {},
   "outputs": [
    {
     "data": {
      "text/plain": [
       "8100"
      ]
     },
     "execution_count": 7,
     "metadata": {},
     "output_type": "execute_result"
    }
   ],
   "source": [
    "len(X_raw[0])"
   ]
  },
  {
   "cell_type": "code",
   "execution_count": 11,
   "id": "09a476d5",
   "metadata": {},
   "outputs": [
    {
     "data": {
      "text/plain": [
       "100"
      ]
     },
     "execution_count": 11,
     "metadata": {},
     "output_type": "execute_result"
    }
   ],
   "source": [
    "len(X_reduced[0])"
   ]
  },
  {
   "cell_type": "code",
   "execution_count": null,
   "id": "439f8a9a",
   "metadata": {},
   "outputs": [],
   "source": []
  }
 ],
 "metadata": {
  "kernelspec": {
   "display_name": "base",
   "language": "python",
   "name": "python3"
  },
  "language_info": {
   "codemirror_mode": {
    "name": "ipython",
    "version": 3
   },
   "file_extension": ".py",
   "mimetype": "text/x-python",
   "name": "python",
   "nbconvert_exporter": "python",
   "pygments_lexer": "ipython3",
   "version": "3.12.4"
  }
 },
 "nbformat": 4,
 "nbformat_minor": 5
}
