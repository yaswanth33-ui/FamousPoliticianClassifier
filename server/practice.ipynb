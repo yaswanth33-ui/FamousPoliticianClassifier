{
 "cells": [
  {
   "cell_type": "code",
   "execution_count": 43,
   "id": "d6d42096",
   "metadata": {},
   "outputs": [],
   "source": [
    "import base64\n",
    "import numpy as np\n",
    "import cv2\n",
    "def get_cv2_image_from_b64(image_b64):\n",
    "    \n",
    "    return cv2.imdecode(np.frombuffer(base64.b64decode(image_b64), np.uint8), cv2.IMREAD_COLOR)\n",
    "\n",
    "def get_b64_from_file(image_file):\n",
    "    with open(image_file, \"rb\") as img_file:\n",
    "        return base64.b64encode(img_file.read()).decode('utf-8')\n",
    "\n"
   ]
  },
  {
   "cell_type": "code",
   "execution_count": null,
   "id": "61051853",
   "metadata": {},
   "outputs": [],
   "source": [
    "import cv2\n",
    "image_b64  = r\"C:\\Users\\Yaswanth Reddy\\SportsPlayerClassifier\\model\\dataset\\test\\Joe Biden face\\Image_.jpg\"\n",
    "image =(get_cv2_image_from_b64(get_b64_from_file(image_b64)))"
   ]
  },
  {
   "cell_type": "code",
   "execution_count": 45,
   "id": "3f58b5d1",
   "metadata": {},
   "outputs": [
    {
     "ename": "error",
     "evalue": "OpenCV(4.10.0) :-1: error: (-5:Bad argument) in function 'imread'\n> Overload resolution failed:\n>  - Expected 'filename' to be a str or path-like object\n>  - Expected 'filename' to be a str or path-like object\n>  - Expected 'filename' to be a str or path-like object\n",
     "output_type": "error",
     "traceback": [
      "\u001b[1;31m---------------------------------------------------------------------------\u001b[0m",
      "\u001b[1;31merror\u001b[0m                                     Traceback (most recent call last)",
      "Cell \u001b[1;32mIn[45], line 1\u001b[0m\n\u001b[1;32m----> 1\u001b[0m img \u001b[38;5;241m=\u001b[39m \u001b[43mcv2\u001b[49m\u001b[38;5;241;43m.\u001b[39;49m\u001b[43mimread\u001b[49m\u001b[43m(\u001b[49m\u001b[43mimage\u001b[49m\u001b[43m)\u001b[49m\n\u001b[0;32m      2\u001b[0m cv2\u001b[38;5;241m.\u001b[39mimshow(\u001b[38;5;124m\"\u001b[39m\u001b[38;5;124mImage\u001b[39m\u001b[38;5;124m\"\u001b[39m, img)\n",
      "\u001b[1;31merror\u001b[0m: OpenCV(4.10.0) :-1: error: (-5:Bad argument) in function 'imread'\n> Overload resolution failed:\n>  - Expected 'filename' to be a str or path-like object\n>  - Expected 'filename' to be a str or path-like object\n>  - Expected 'filename' to be a str or path-like object\n"
     ]
    }
   ],
   "source": [
    "\n",
    "\n",
    "img = cv2.imread(image)\n",
    "cv2.imshow(\"Image\", img)\n"
   ]
  },
  {
   "cell_type": "code",
   "execution_count": 39,
   "id": "4c1f356f",
   "metadata": {},
   "outputs": [],
   "source": [
    "import base64\n",
    "import cv2\n",
    "import os\n",
    "import numpy as np\n",
    "from skimage.feature import hog\n",
    "from skimage import color"
   ]
  },
  {
   "cell_type": "code",
   "execution_count": 40,
   "id": "e77ff367",
   "metadata": {},
   "outputs": [],
   "source": [
    "def get_preprocessed_image(img_path):\n",
    "    img = cv2.imread(img_path)\n",
    "    if img is None:\n",
    "        raise ValueError(f\"Image not found or couldn't be read: {img_path}\")\n",
    "\n",
    "    img = cv2.resize(img, (128, 128))\n",
    "    gray = color.rgb2gray(img)\n",
    "\n",
    "    hog_feat = hog(gray, pixels_per_cell=(8, 8), cells_per_block=(2, 2), visualize=False)\n",
    "\n",
    "    return np.array(hog_feat)"
   ]
  },
  {
   "cell_type": "code",
   "execution_count": 41,
   "id": "b6e28cd7",
   "metadata": {},
   "outputs": [],
   "source": [
    "def crop_and_save_face(img_path, output_path):\n",
    "    img = cv2.imread(img_path)\n",
    "    if img is None:\n",
    "        raise ValueError(f\"Could not read image at {img_path}\")\n",
    "    face_cascade = cv2.CascadeClassifier(cv2.data.haarcascades + 'haarcascade_frontalface_default.xml')\n",
    "    gray = cv2.cvtColor(img, cv2.COLOR_BGR2GRAY)\n",
    "    faces = face_cascade.detectMultiScale(gray, scaleFactor=1.1, minNeighbors=5)\n",
    "\n",
    "    for (x, y, w, h) in faces:\n",
    "        face_crop = img[y:y+h, x:x+w]\n",
    "        face_resized = cv2.resize(face_crop, (128, 128))\n",
    "        cv2.imwrite(output_path, face_resized)\n",
    "        print(f\"✅ Face saved to: {output_path}\")\n",
    "        return output_path  # Return the output path or image if needed\n",
    "\n",
    "    print(\"⚠️ No face detected in the image.\")\n",
    "    return None\n"
   ]
  },
  {
   "cell_type": "code",
   "execution_count": 62,
   "id": "94b13189",
   "metadata": {},
   "outputs": [
    {
     "name": "stderr",
     "output_type": "stream",
     "text": [
      "<>:1: SyntaxWarning: invalid escape sequence '\\s'\n",
      "<>:2: SyntaxWarning: invalid escape sequence '\\s'\n",
      "<>:1: SyntaxWarning: invalid escape sequence '\\s'\n",
      "<>:2: SyntaxWarning: invalid escape sequence '\\s'\n",
      "C:\\Users\\Yaswanth Reddy\\AppData\\Local\\Temp\\ipykernel_6580\\1051273834.py:1: SyntaxWarning: invalid escape sequence '\\s'\n",
      "  image_b64  = os.path.join(os.getcwd()+\"\\server\\images\\input\", \"Image_3.jpg\")\n",
      "C:\\Users\\Yaswanth Reddy\\AppData\\Local\\Temp\\ipykernel_6580\\1051273834.py:2: SyntaxWarning: invalid escape sequence '\\s'\n",
      "  output_path = os.path.join(os.getcwd()+\"\\server\\images\\output\",\"3.jpg\")\n"
     ]
    },
    {
     "name": "stdout",
     "output_type": "stream",
     "text": [
      "✅ Face saved to: c:\\Users\\Yaswanth Reddy\\SportsPlayerClassifier\\server\\images\\output\\3.jpg\n"
     ]
    }
   ],
   "source": [
    "image_b64  = os.path.join(os.getcwd()+\"\\server\\images\\input\", \"Image_3.jpg\")\n",
    "output_path = os.path.join(os.getcwd()+\"\\server\\images\\output\",\"3.jpg\")\n",
    "result = crop_and_save_face(image_b64, output_path)"
   ]
  },
  {
   "cell_type": "code",
   "execution_count": 63,
   "id": "270aafc3",
   "metadata": {},
   "outputs": [
    {
     "name": "stderr",
     "output_type": "stream",
     "text": [
      "<>:1: SyntaxWarning: invalid escape sequence '\\s'\n",
      "<>:1: SyntaxWarning: invalid escape sequence '\\s'\n",
      "C:\\Users\\Yaswanth Reddy\\AppData\\Local\\Temp\\ipykernel_6580\\1270830166.py:1: SyntaxWarning: invalid escape sequence '\\s'\n",
      "  image_b64  = os.path.join(os.getcwd()+\"\\server\\images\\input\", \"2.jpg\")\n"
     ]
    },
    {
     "data": {
      "text/plain": [
       "'c:\\\\Users\\\\Yaswanth Reddy\\\\SportsPlayerClassifier\\\\server\\\\images\\\\input\\\\2.jpg'"
      ]
     },
     "execution_count": 63,
     "metadata": {},
     "output_type": "execute_result"
    }
   ],
   "source": [
    "image_b64  = os.path.join(os.getcwd()+\"\\server\\images\\input\", \"2.jpg\")\n",
    "image_b64"
   ]
  },
  {
   "cell_type": "code",
   "execution_count": 46,
   "id": "3d1b6249",
   "metadata": {},
   "outputs": [
    {
     "data": {
      "text/plain": [
       "'c:\\\\Users\\\\Yaswanth Reddy\\\\SportsPlayerClassifier\\\\server\\\\images\\\\output\\\\7.jpg'"
      ]
     },
     "execution_count": 46,
     "metadata": {},
     "output_type": "execute_result"
    }
   ],
   "source": [
    "result"
   ]
  },
  {
   "cell_type": "code",
   "execution_count": 64,
   "id": "4f416fc7",
   "metadata": {},
   "outputs": [
    {
     "data": {
      "text/plain": [
       "array([0.05874874, 0.        , 0.        , ..., 0.        , 0.        ,\n",
       "       0.        ])"
      ]
     },
     "execution_count": 64,
     "metadata": {},
     "output_type": "execute_result"
    }
   ],
   "source": [
    "img = get_preprocessed_image(result)\n",
    "img "
   ]
  },
  {
   "cell_type": "code",
   "execution_count": 57,
   "id": "221e67ec",
   "metadata": {},
   "outputs": [
    {
     "data": {
      "text/plain": [
       "8100"
      ]
     },
     "execution_count": 57,
     "metadata": {},
     "output_type": "execute_result"
    }
   ],
   "source": [
    "len(img)"
   ]
  },
  {
   "cell_type": "code",
   "execution_count": 65,
   "id": "604f1e48",
   "metadata": {},
   "outputs": [
    {
     "data": {
      "text/plain": [
       "(1, 8100)"
      ]
     },
     "execution_count": 65,
     "metadata": {},
     "output_type": "execute_result"
    }
   ],
   "source": [
    "img= img.reshape(1,-1)\n",
    "img.shape"
   ]
  },
  {
   "cell_type": "code",
   "execution_count": null,
   "id": "a5539902",
   "metadata": {},
   "outputs": [
    {
     "data": {
      "text/plain": [
       "array([0], dtype=int64)"
      ]
     },
     "execution_count": 50,
     "metadata": {},
     "output_type": "execute_result"
    }
   ],
   "source": [
    "import numpy as np\n",
    "import joblib\n",
    "\n",
    "\n",
    "model = joblib.load(r'C:\\Users\\Yaswanth Reddy\\SportsPlayerClassifier\\server\\artifacts\\model.pkl')\n",
    "\n",
    "\n"
   ]
  },
  {
   "cell_type": "code",
   "execution_count": 75,
   "id": "3c89f31f",
   "metadata": {},
   "outputs": [
    {
     "data": {
      "text/plain": [
       "array([12], dtype=int64)"
      ]
     },
     "execution_count": 75,
     "metadata": {},
     "output_type": "execute_result"
    }
   ],
   "source": [
    "X_reduced = img.flatten()\n",
    "result = model.predict([X_reduced])\n",
    "proba = model.predict_proba([X_reduced])*100\n",
    "result"
   ]
  },
  {
   "cell_type": "code",
   "execution_count": 67,
   "id": "09707062",
   "metadata": {},
   "outputs": [
    {
     "data": {
      "text/plain": [
       "12"
      ]
     },
     "execution_count": 67,
     "metadata": {},
     "output_type": "execute_result"
    }
   ],
   "source": [
    "cls = result.tolist()[0]\n",
    "cls"
   ]
  },
  {
   "cell_type": "code",
   "execution_count": 68,
   "id": "a0c25250",
   "metadata": {},
   "outputs": [],
   "source": [
    "import json\n",
    "\n",
    "\n",
    "with open(r'C:\\Users\\Yaswanth Reddy\\SportsPlayerClassifier\\server\\artifacts\\classes.json', 'r') as f:\n",
    "    data = json.load(f)\n",
    "classes = {int(v): k for k, v in data.items()}\n",
    "\n"
   ]
  },
  {
   "cell_type": "code",
   "execution_count": 69,
   "id": "ac17bf7a",
   "metadata": {},
   "outputs": [
    {
     "data": {
      "text/plain": [
       "'Rahul Gandhi'"
      ]
     },
     "execution_count": 69,
     "metadata": {},
     "output_type": "execute_result"
    }
   ],
   "source": [
    "classes[cls]"
   ]
  },
  {
   "cell_type": "code",
   "execution_count": 78,
   "id": "0bfbeffb",
   "metadata": {},
   "outputs": [
    {
     "data": {
      "text/plain": [
       "array([ 1.69,  1.41,  0.75,  1.76,  1.7 ,  1.  ,  0.58,  1.63,  7.88,\n",
       "        0.61,  2.78,  3.86, 37.69,  0.62,  3.97,  0.7 , 12.87,  0.82,\n",
       "       17.12,  0.57])"
      ]
     },
     "execution_count": 78,
     "metadata": {},
     "output_type": "execute_result"
    }
   ],
   "source": [
    "max(np.round(proba.tolist(),2))"
   ]
  },
  {
   "cell_type": "code",
   "execution_count": null,
   "id": "2bf10c2b",
   "metadata": {},
   "outputs": [],
   "source": []
  },
  {
   "cell_type": "code",
   "execution_count": null,
   "id": "d5029b09",
   "metadata": {},
   "outputs": [],
   "source": []
  }
 ],
 "metadata": {
  "kernelspec": {
   "display_name": "base",
   "language": "python",
   "name": "python3"
  },
  "language_info": {
   "codemirror_mode": {
    "name": "ipython",
    "version": 3
   },
   "file_extension": ".py",
   "mimetype": "text/x-python",
   "name": "python",
   "nbconvert_exporter": "python",
   "pygments_lexer": "ipython3",
   "version": "3.12.4"
  }
 },
 "nbformat": 4,
 "nbformat_minor": 5
}
